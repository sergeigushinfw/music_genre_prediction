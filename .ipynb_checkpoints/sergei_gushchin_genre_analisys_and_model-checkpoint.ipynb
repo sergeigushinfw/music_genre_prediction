{
 "cells": [
  {
   "cell_type": "markdown",
   "id": "04d79fdd-63d8-4837-bccf-2f7a2134ce84",
   "metadata": {},
   "source": [
    "# Предсказание музыкальных жанров"
   ]
  },
  {
   "cell_type": "markdown",
   "id": "d6a8087a-dea7-4d28-8f88-aaf3cec88600",
   "metadata": {},
   "source": [
    "__Цель__\n",
    "\n",
    "Разработать модель, максимально точно предсказывающую музыкальные жанры\n",
    "\n",
    "__Входные данные__\n",
    "- Тренировочный и тестовый датасеты с параметрами трека (формальными и оценочными)\n",
    "\n",
    "__Условия__\n",
    "- Метрика: F1 (average=\"micro\")\n",
    "- Значение метрики не менее 0.5 на тестовом датасете\n",
    "\n",
    "__Этапы__\n",
    "- Загрузить датасеты\n",
    "- Профайлинг (+Проверка на мультиколлинеарность)\n",
    "- Обзор и выводы по полям\n",
    "- Исправление пропусков, типов\n",
    "- Дополнительные манипуляции (добавление синтетических полей и тд)\n",
    "- Проверка на дубликаты\n",
    "- Выделение признаков и целевых полей\n",
    "- Формирование пайплайна (Pipeline)\n",
    "- Проверка нескольких моделей и выбор лучшей (GridSearchCV)\n",
    "- Проверка влияния признков на классификацию (SHAP)\n",
    "- Выгрузка предсказаний для Kaggle\n",
    "- Вывод"
   ]
  },
  {
   "cell_type": "markdown",
   "id": "70e40418-d1e2-4e62-b102-24cd8b5bced2",
   "metadata": {},
   "source": [
    "## Импорт модулей"
   ]
  },
  {
   "cell_type": "code",
   "execution_count": 69,
   "id": "d6f5bf35",
   "metadata": {
    "scrolled": true
   },
   "outputs": [],
   "source": [
    "import math\n",
    "import warnings\n",
    "from collections import Counter\n",
    "\n",
    "from ydata_profiling import ProfileReport\n",
    "import seaborn as sns\n",
    "import pandas as pd\n",
    "import numpy as np\n",
    "import matplotlib.pyplot as plt\n",
    "from matplotlib import rcParams, rcParamsDefault\n",
    "import shap\n",
    "\n",
    "from sklearn.pipeline import Pipeline #, # make_pipeline\n",
    "from sklearn.preprocessing import OneHotEncoder, StandardScaler, OrdinalEncoder\n",
    "from sklearn.linear_model import Ridge, LinearRegression\n",
    "from sklearn.model_selection import train_test_split\n",
    "from sklearn.preprocessing import OneHotEncoder, StandardScaler, MinMaxScaler\n",
    "from sklearn.compose import make_column_selector, make_column_transformer, ColumnTransformer\n",
    "from sklearn.ensemble import RandomForestClassifier, AdaBoostClassifier\n",
    "from sklearn.metrics import f1_score, make_scorer \n",
    "from sklearn.model_selection import train_test_split, GridSearchCV, cross_val_score, cross_val_predict\n",
    "from sklearn.neighbors import KNeighborsClassifier\n",
    "from sklearn.tree import DecisionTreeClassifier\n",
    "from sklearn.gaussian_process import GaussianProcessClassifier\n",
    "from sklearn.gaussian_process.kernels import RBF\n",
    "from sklearn.neural_network import MLPClassifier\n",
    "from sklearn.svm import SVC\n",
    "from sklearn.naive_bayes import GaussianNB\n",
    "from sklearn.discriminant_analysis import QuadraticDiscriminantAnalysis\n",
    "from sklearn.preprocessing import PolynomialFeatures\n",
    "\n",
    "from imblearn.pipeline import make_pipeline\n",
    "from imblearn.pipeline import make_pipeline as make_imblearn_pipeline\n",
    "from catboost import CatBoostClassifier\n",
    "\n",
    "\n",
    "from feature_engine.selection import DropCorrelatedFeatures, DropConstantFeatures\n",
    "\n",
    "\n",
    "pd.options.mode.chained_assignment = None\n",
    "\n",
    "RANDOM_STATE = 12345\n",
    "\n",
    "COLOR_BOLD = '\\033[1m'\n",
    "COLOR_END = '\\033[0m'\n",
    "\n",
    "COLOR_GREEN = '\\033[92m'\n",
    "COLOR_RED = '\\033[91m'\n",
    "\n",
    "warnings.filterwarnings('ignore')"
   ]
  },
  {
   "cell_type": "markdown",
   "id": "69cec21e",
   "metadata": {},
   "source": [
    "## Загрузка тренировочного и тестового датасетов"
   ]
  },
  {
   "cell_type": "code",
   "execution_count": 70,
   "id": "160080c4",
   "metadata": {},
   "outputs": [
    {
     "data": {
      "text/html": [
       "<div>\n",
       "<style scoped>\n",
       "    .dataframe tbody tr th:only-of-type {\n",
       "        vertical-align: middle;\n",
       "    }\n",
       "\n",
       "    .dataframe tbody tr th {\n",
       "        vertical-align: top;\n",
       "    }\n",
       "\n",
       "    .dataframe thead th {\n",
       "        text-align: right;\n",
       "    }\n",
       "</style>\n",
       "<table border=\"1\" class=\"dataframe\">\n",
       "  <thead>\n",
       "    <tr style=\"text-align: right;\">\n",
       "      <th></th>\n",
       "      <th>instance_id</th>\n",
       "      <th>track_name</th>\n",
       "      <th>popularity</th>\n",
       "      <th>acousticness</th>\n",
       "      <th>danceability</th>\n",
       "      <th>duration_ms</th>\n",
       "      <th>energy</th>\n",
       "      <th>instrumentalness</th>\n",
       "      <th>key</th>\n",
       "      <th>liveness</th>\n",
       "      <th>loudness</th>\n",
       "      <th>mode</th>\n",
       "      <th>speechiness</th>\n",
       "      <th>tempo</th>\n",
       "      <th>obtained_date</th>\n",
       "      <th>valence</th>\n",
       "      <th>music_genre</th>\n",
       "    </tr>\n",
       "  </thead>\n",
       "  <tbody>\n",
       "    <tr>\n",
       "      <th>0</th>\n",
       "      <td>4919</td>\n",
       "      <td>By Your Side</td>\n",
       "      <td>33.0</td>\n",
       "      <td>0.000718</td>\n",
       "      <td>0.501</td>\n",
       "      <td>-1.0</td>\n",
       "      <td>0.935</td>\n",
       "      <td>0.020100</td>\n",
       "      <td>G#</td>\n",
       "      <td>0.0831</td>\n",
       "      <td>-5.566</td>\n",
       "      <td>Minor</td>\n",
       "      <td>0.1570</td>\n",
       "      <td>144.922</td>\n",
       "      <td>4-Apr</td>\n",
       "      <td>0.1880</td>\n",
       "      <td>Electronic</td>\n",
       "    </tr>\n",
       "    <tr>\n",
       "      <th>1</th>\n",
       "      <td>16096</td>\n",
       "      <td>NaN</td>\n",
       "      <td>55.0</td>\n",
       "      <td>0.064700</td>\n",
       "      <td>0.282</td>\n",
       "      <td>288333.0</td>\n",
       "      <td>0.738</td>\n",
       "      <td>0.014200</td>\n",
       "      <td>C</td>\n",
       "      <td>0.2900</td>\n",
       "      <td>-5.566</td>\n",
       "      <td>Major</td>\n",
       "      <td>0.0324</td>\n",
       "      <td>126.914</td>\n",
       "      <td>NaN</td>\n",
       "      <td>0.2110</td>\n",
       "      <td>Alternative</td>\n",
       "    </tr>\n",
       "    <tr>\n",
       "      <th>2</th>\n",
       "      <td>43825</td>\n",
       "      <td>Symphony No. 6: VI. Allegro</td>\n",
       "      <td>39.0</td>\n",
       "      <td>0.931000</td>\n",
       "      <td>0.364</td>\n",
       "      <td>115240.0</td>\n",
       "      <td>0.349</td>\n",
       "      <td>0.940000</td>\n",
       "      <td>NaN</td>\n",
       "      <td>0.1100</td>\n",
       "      <td>-13.279</td>\n",
       "      <td>NaN</td>\n",
       "      <td>0.0321</td>\n",
       "      <td>65.42699999999999</td>\n",
       "      <td>4-Apr</td>\n",
       "      <td>0.0891</td>\n",
       "      <td>Classical</td>\n",
       "    </tr>\n",
       "    <tr>\n",
       "      <th>3</th>\n",
       "      <td>4331</td>\n",
       "      <td>NaN</td>\n",
       "      <td>56.0</td>\n",
       "      <td>0.012300</td>\n",
       "      <td>0.332</td>\n",
       "      <td>234638.0</td>\n",
       "      <td>0.847</td>\n",
       "      <td>0.000027</td>\n",
       "      <td>B</td>\n",
       "      <td>0.2970</td>\n",
       "      <td>-4.513</td>\n",
       "      <td>Minor</td>\n",
       "      <td>0.0910</td>\n",
       "      <td>67.23</td>\n",
       "      <td>5-Apr</td>\n",
       "      <td>0.3920</td>\n",
       "      <td>Electronic</td>\n",
       "    </tr>\n",
       "    <tr>\n",
       "      <th>4</th>\n",
       "      <td>21371</td>\n",
       "      <td>Shoe Shopping</td>\n",
       "      <td>52.0</td>\n",
       "      <td>0.580000</td>\n",
       "      <td>0.716</td>\n",
       "      <td>221640.0</td>\n",
       "      <td>0.614</td>\n",
       "      <td>0.000014</td>\n",
       "      <td>G</td>\n",
       "      <td>0.1600</td>\n",
       "      <td>-7.099</td>\n",
       "      <td>Major</td>\n",
       "      <td>0.0360</td>\n",
       "      <td>88.006</td>\n",
       "      <td>4-Apr</td>\n",
       "      <td>0.6800</td>\n",
       "      <td>Country</td>\n",
       "    </tr>\n",
       "  </tbody>\n",
       "</table>\n",
       "</div>"
      ],
      "text/plain": [
       "   instance_id                   track_name  popularity  acousticness  \\\n",
       "0         4919                 By Your Side        33.0      0.000718   \n",
       "1        16096                          NaN        55.0      0.064700   \n",
       "2        43825  Symphony No. 6: VI. Allegro        39.0      0.931000   \n",
       "3         4331                          NaN        56.0      0.012300   \n",
       "4        21371                Shoe Shopping        52.0      0.580000   \n",
       "\n",
       "   danceability  duration_ms  energy  instrumentalness  key  liveness  \\\n",
       "0         0.501         -1.0   0.935          0.020100   G#    0.0831   \n",
       "1         0.282     288333.0   0.738          0.014200    C    0.2900   \n",
       "2         0.364     115240.0   0.349          0.940000  NaN    0.1100   \n",
       "3         0.332     234638.0   0.847          0.000027    B    0.2970   \n",
       "4         0.716     221640.0   0.614          0.000014    G    0.1600   \n",
       "\n",
       "   loudness   mode  speechiness              tempo obtained_date  valence  \\\n",
       "0    -5.566  Minor       0.1570            144.922         4-Apr   0.1880   \n",
       "1    -5.566  Major       0.0324            126.914           NaN   0.2110   \n",
       "2   -13.279    NaN       0.0321  65.42699999999999         4-Apr   0.0891   \n",
       "3    -4.513  Minor       0.0910              67.23         5-Apr   0.3920   \n",
       "4    -7.099  Major       0.0360             88.006         4-Apr   0.6800   \n",
       "\n",
       "   music_genre  \n",
       "0   Electronic  \n",
       "1  Alternative  \n",
       "2    Classical  \n",
       "3   Electronic  \n",
       "4      Country  "
      ]
     },
     "execution_count": 70,
     "metadata": {},
     "output_type": "execute_result"
    }
   ],
   "source": [
    "data = pd.read_csv('train.csv')\n",
    "test_data = pd.read_csv('test.csv')\n",
    "data.head()"
   ]
  },
  {
   "cell_type": "code",
   "execution_count": 71,
   "id": "3215b8ed",
   "metadata": {},
   "outputs": [
    {
     "name": "stdout",
     "output_type": "stream",
     "text": [
      "<class 'pandas.core.frame.DataFrame'>\n",
      "RangeIndex: 40000 entries, 0 to 39999\n",
      "Data columns (total 17 columns):\n",
      " #   Column            Non-Null Count  Dtype  \n",
      "---  ------            --------------  -----  \n",
      " 0   instance_id       40000 non-null  int64  \n",
      " 1   track_name        29262 non-null  object \n",
      " 2   popularity        36078 non-null  float64\n",
      " 3   acousticness      40000 non-null  float64\n",
      " 4   danceability      37963 non-null  float64\n",
      " 5   duration_ms       40000 non-null  float64\n",
      " 6   energy            40000 non-null  float64\n",
      " 7   instrumentalness  40000 non-null  float64\n",
      " 8   key               38577 non-null  object \n",
      " 9   liveness          40000 non-null  float64\n",
      " 10  loudness          40000 non-null  float64\n",
      " 11  mode              38147 non-null  object \n",
      " 12  speechiness       40000 non-null  float64\n",
      " 13  tempo             40000 non-null  object \n",
      " 14  obtained_date     33781 non-null  object \n",
      " 15  valence           40000 non-null  float64\n",
      " 16  music_genre       40000 non-null  object \n",
      "dtypes: float64(10), int64(1), object(6)\n",
      "memory usage: 5.2+ MB\n"
     ]
    }
   ],
   "source": [
    "data.info()"
   ]
  },
  {
   "cell_type": "markdown",
   "id": "d56a1af4",
   "metadata": {},
   "source": [
    "Есть поля с пропусками"
   ]
  },
  {
   "cell_type": "code",
   "execution_count": 72,
   "id": "63d86a21-b283-49d6-9683-b548d9df4595",
   "metadata": {},
   "outputs": [
    {
     "name": "stdout",
     "output_type": "stream",
     "text": [
      "<class 'pandas.core.frame.DataFrame'>\n",
      "RangeIndex: 10000 entries, 0 to 9999\n",
      "Data columns (total 16 columns):\n",
      " #   Column            Non-Null Count  Dtype  \n",
      "---  ------            --------------  -----  \n",
      " 0   instance_id       10000 non-null  int64  \n",
      " 1   track_name        7388 non-null   object \n",
      " 2   popularity        8987 non-null   float64\n",
      " 3   acousticness      10000 non-null  float64\n",
      " 4   danceability      9477 non-null   float64\n",
      " 5   duration_ms       10000 non-null  float64\n",
      " 6   energy            10000 non-null  float64\n",
      " 7   instrumentalness  10000 non-null  float64\n",
      " 8   key               9673 non-null   object \n",
      " 9   liveness          10000 non-null  float64\n",
      " 10  loudness          10000 non-null  float64\n",
      " 11  mode              9518 non-null   object \n",
      " 12  speechiness       10000 non-null  float64\n",
      " 13  tempo             10000 non-null  object \n",
      " 14  obtained_date     8419 non-null   object \n",
      " 15  valence           10000 non-null  float64\n",
      "dtypes: float64(10), int64(1), object(5)\n",
      "memory usage: 1.2+ MB\n"
     ]
    }
   ],
   "source": [
    "test_data.info()"
   ]
  },
  {
   "cell_type": "markdown",
   "id": "c2528a43",
   "metadata": {},
   "source": [
    "## Профайлинг датасета\n",
    "\n"
   ]
  },
  {
   "cell_type": "code",
   "execution_count": 73,
   "id": "38971853-05c9-4283-8637-1981c011dbcf",
   "metadata": {},
   "outputs": [],
   "source": [
    "# profile = ProfileReport(data, title=\"Профайлинг датасета с музыкой\")"
   ]
  },
  {
   "cell_type": "code",
   "execution_count": 74,
   "id": "166f1ed6",
   "metadata": {},
   "outputs": [],
   "source": [
    "# profile"
   ]
  },
  {
   "cell_type": "markdown",
   "id": "d95736dc-090d-4d2e-8d3f-a3f4be056a5b",
   "metadata": {},
   "source": [
    "## Обзор полей\n",
    "\n"
   ]
  },
  {
   "cell_type": "markdown",
   "id": "d091b4e0",
   "metadata": {},
   "source": [
    "### instance_id (ID трека)\n",
    "Поле в порядке, пропусков нет\n",
    "Не влияет на жанр\n",
    "\n",
    "### track_name (Название)\n",
    "Поле содержит большое количество пропусков\n",
    "Так как название, на мой взгляд не особо коррелирует с жанром – это поле можно пропустить (но я поэксперементирую)\n",
    "\n",
    "### popularity (Популярность)\n",
    "9.8% пропусков\n",
    "Данные распределены нормально. Есть аномалии в нуле\n",
    "Медиана и среднее почти совпадают (45 и 44.18 соответственно)\n",
    "Эта характеристика влияет на жанр, но можно заполнить пропуски средним или медианным значением\n",
    "\n",
    "### acousticness (Аккустичность)\n",
    "Поле в порядке\n",
    "\n",
    "### danceability (Танцевальность)\n",
    "5.1%  пропусков\n",
    "Данные распределены нормально\n",
    "Медиана и среднее почти совпадают (0.569 и 0.558 соответственно)\n",
    "Эта характеристика влияет на жанр, но можно заполнить пропуски средним или медианным значением\n",
    "\n",
    "### duration_ms (Длительность мс.)\n",
    "Длительность не может быть связана с жанром, удалим поле\n",
    "\n",
    "### energy (Энергичность)\n",
    "Значения достаточно разрозненные и неоднородные, приведем к логарифмическому виду чтобы они выровнялись без потери информации\n",
    "\n",
    "### instrumentalness (Инструментальность)\n",
    "Поле в порядке\n",
    "\n",
    "### key (Тональность)\n",
    "Категорийное поле\n",
    "3.6% пропусков.\n",
    "Считаю, что тональность не влияет на жанр музыки. Не буду включать в исследование\n",
    "\n",
    "### liveness (Живость)\n",
    "Поле в порядке\n",
    "\n",
    "### loudness (Громкость)\n",
    "Поле в порядке\n",
    "\n",
    "### mode (Лад мажор/минор)\n",
    "Категорийное поле\n",
    "3.6% пропусков. \n",
    "Считаю, что лад не влияет на жанр музыки. Не буду включать в исследование\n",
    "\n",
    "### speechiness (Красноречивость – \"разговорчивость\")\n",
    "Поле в порядке\n",
    "\n",
    "### tempo (Темп)\n",
    "Категорийное поле, а должно быть числовым. Исправим \n",
    "\n",
    "### obtained_date (Дата получения?)\n",
    "15.5% пропусков\n",
    "Поле необязательно для обучения, тк жанры не зависят от даты релиза трека\n",
    "\n",
    "### valence (Валентность)\n",
    ">Валентность: показатель от 0,0 до 1,0, описывающий музыкальную позитивность, передаваемую треком. Треки с высокой валентностью звучат более позитивно (например, счастливые, веселые, эйфорические), тогда как треки с низкой валентностью звучат более негативно (например, грустные, депрессивные, злые).\n",
    "\n",
    "Поле в порядке\n",
    "\n",
    "\n",
    "### music_genre (Жанр – целевой признак)\n",
    "Поле в порядке"
   ]
  },
  {
   "cell_type": "markdown",
   "id": "7ebfdf29-4851-4bdf-9d3c-164a864706fd",
   "metadata": {},
   "source": [
    "## Резюме по обзору полей"
   ]
  },
  {
   "cell_type": "markdown",
   "id": "2462b1cd-31d3-45c3-9148-02087ef700a9",
   "metadata": {},
   "source": [
    "- __energy__ – приведем к логарифму\n",
    "- __popularity__ – Заполним пропуски средним значением\n",
    "- __danceability__ – Заполним пропуски средним значением\n",
    "- __key__ объеденим с __mode__. Исправим пропуски на OHE\n",
    "- __tempo__ – Исправим тип с categorical на float\n"
   ]
  },
  {
   "cell_type": "markdown",
   "id": "8785d803-9cd8-4a23-9a51-75b80e28194b",
   "metadata": {},
   "source": [
    "### Исправление полей"
   ]
  },
  {
   "cell_type": "code",
   "execution_count": 75,
   "id": "c973c493-08ae-48bc-b74d-000e3714c5fb",
   "metadata": {},
   "outputs": [
    {
     "name": "stdout",
     "output_type": "stream",
     "text": [
      "<class 'pandas.core.frame.DataFrame'>\n",
      "RangeIndex: 40000 entries, 0 to 39999\n",
      "Data columns (total 18 columns):\n",
      " #   Column            Non-Null Count  Dtype   \n",
      "---  ------            --------------  -----   \n",
      " 0   instance_id       40000 non-null  int64   \n",
      " 1   track_name        29262 non-null  object  \n",
      " 2   popularity        40000 non-null  float64 \n",
      " 3   acousticness      40000 non-null  float64 \n",
      " 4   danceability      40000 non-null  float64 \n",
      " 5   duration_ms       40000 non-null  float64 \n",
      " 6   energy            40000 non-null  float64 \n",
      " 7   instrumentalness  40000 non-null  float64 \n",
      " 8   key               38577 non-null  object  \n",
      " 9   liveness          40000 non-null  float64 \n",
      " 10  loudness          40000 non-null  float64 \n",
      " 11  mode              38147 non-null  object  \n",
      " 12  speechiness       40000 non-null  float64 \n",
      " 13  tempo             40000 non-null  float64 \n",
      " 14  obtained_date     33781 non-null  object  \n",
      " 15  valence           40000 non-null  float64 \n",
      " 16  music_genre       40000 non-null  category\n",
      " 17  energy_log        40000 non-null  float64 \n",
      "dtypes: category(1), float64(12), int64(1), object(4)\n",
      "memory usage: 5.2+ MB\n"
     ]
    }
   ],
   "source": [
    "# Сильно не повлияло, но оставлю\n",
    "# def concat_mode_key(row):\n",
    "#     mode = row['mode']\n",
    "#     key = row['key']\n",
    "\n",
    "#     mode_str = mode\n",
    "#     key_str = key\n",
    "\n",
    "#     if pd.isna(mode) and pd.isna(key):\n",
    "#         return np.NaN\n",
    "\n",
    "#     if pd.isna(mode):\n",
    "#         mode_str = 'nan'\n",
    "\n",
    "#     if pd.isna(key):\n",
    "#         key_str = 'nan'\n",
    "\n",
    "    # return f'{mode_str}_{key_str}'\n",
    "    \n",
    "# data['mode_key'] = data.apply(concat_mode_key, axis=1)\n",
    "# test_data['mode_key'] = test_data.apply(concat_mode_key, axis=1)\n",
    "\n",
    "def energy_to_log(row):\n",
    "    energy = row['energy']\n",
    "    return np.log(energy + 1)\n",
    "\n",
    "    \n",
    "def correct_dtypes(data):\n",
    "    popularity_mean = data['popularity'].mean()\n",
    "    danceability_mean = data['danceability'].mean()\n",
    "\n",
    "    data['popularity'].fillna(value=popularity_mean, inplace=True)\n",
    "    data['danceability'].fillna(value=danceability_mean, inplace=True)\n",
    "\n",
    "    data['tempo'] = data['tempo'].replace('?', np.NaN)\n",
    "    data['tempo'] = pd.to_numeric(data['tempo'])\n",
    "\n",
    "    tempo_mean = data['tempo'].mean()\n",
    "\n",
    "    data['tempo'].fillna(value=tempo_mean, inplace=True)\n",
    "    \n",
    "    if 'energy' in data:\n",
    "        data['energy_log'] = data.apply(energy_to_log, axis=1)\n",
    "\n",
    "    if 'music_genre' in data:\n",
    "        data['music_genre'] = data['music_genre'].astype('category')\n",
    "    \n",
    "    return data\n",
    "\n",
    "data = correct_dtypes(data)\n",
    "test_data = correct_dtypes(test_data)\n",
    "\n",
    "\n",
    "\n",
    "data.info()"
   ]
  },
  {
   "cell_type": "code",
   "execution_count": 76,
   "id": "ee4436db-3459-49ec-b067-29138f2fb515",
   "metadata": {},
   "outputs": [
    {
     "name": "stdout",
     "output_type": "stream",
     "text": [
      "<class 'pandas.core.frame.DataFrame'>\n",
      "RangeIndex: 10000 entries, 0 to 9999\n",
      "Data columns (total 17 columns):\n",
      " #   Column            Non-Null Count  Dtype  \n",
      "---  ------            --------------  -----  \n",
      " 0   instance_id       10000 non-null  int64  \n",
      " 1   track_name        7388 non-null   object \n",
      " 2   popularity        10000 non-null  float64\n",
      " 3   acousticness      10000 non-null  float64\n",
      " 4   danceability      10000 non-null  float64\n",
      " 5   duration_ms       10000 non-null  float64\n",
      " 6   energy            10000 non-null  float64\n",
      " 7   instrumentalness  10000 non-null  float64\n",
      " 8   key               9673 non-null   object \n",
      " 9   liveness          10000 non-null  float64\n",
      " 10  loudness          10000 non-null  float64\n",
      " 11  mode              9518 non-null   object \n",
      " 12  speechiness       10000 non-null  float64\n",
      " 13  tempo             10000 non-null  float64\n",
      " 14  obtained_date     8419 non-null   object \n",
      " 15  valence           10000 non-null  float64\n",
      " 16  energy_log        10000 non-null  float64\n",
      "dtypes: float64(12), int64(1), object(4)\n",
      "memory usage: 1.3+ MB\n"
     ]
    }
   ],
   "source": [
    "test_data.info()"
   ]
  },
  {
   "cell_type": "markdown",
   "id": "5cd5abae-9541-462f-b3ab-314bebcb839c",
   "metadata": {},
   "source": [
    "### Поля исправлены"
   ]
  },
  {
   "cell_type": "markdown",
   "id": "62405e71-4590-4116-a64a-52bb18043473",
   "metadata": {},
   "source": [
    "## Эксперементируем с названием песни"
   ]
  },
  {
   "cell_type": "markdown",
   "id": "eda6b5b0-6978-4761-95f4-206a6abfef7a",
   "metadata": {
    "tags": []
   },
   "source": [
    "Хочу проверить насколько признаки песни (количество символов и колиество слов) влияют на жанр"
   ]
  },
  {
   "cell_type": "code",
   "execution_count": 77,
   "id": "93b4d127-131c-4c81-b4c4-27b5610fb94e",
   "metadata": {},
   "outputs": [
    {
     "data": {
      "text/plain": [
       "0    12\n",
       "1     0\n",
       "2    27\n",
       "3     0\n",
       "4    13\n",
       "Name: track_name_len, dtype: int64"
      ]
     },
     "execution_count": 77,
     "metadata": {},
     "output_type": "execute_result"
    }
   ],
   "source": [
    "# Добавим поле с количеством слов в названии\n",
    "def track_name_words(row):\n",
    "    result = 0\n",
    "    col = 'track_name'\n",
    "\n",
    "    \n",
    "    track_name = row[col]\n",
    "    \n",
    "    if pd.isna(track_name):\n",
    "        result = 0\n",
    "    else:\n",
    "        result = len(track_name.split())        \n",
    "\n",
    "    return result\n",
    "\n",
    "# Добавим поле с количеством символов в названии\n",
    "def track_name_length(row):\n",
    "    result = 0\n",
    "    col = 'track_name'\n",
    "\n",
    "    \n",
    "    track_name = row[col]\n",
    "    \n",
    "    if pd.isna(track_name):\n",
    "        result = 0\n",
    "    else:\n",
    "        result = len(track_name)        \n",
    "\n",
    "    return result\n",
    "\n",
    "if 'track_name' in data:\n",
    "    data['track_name_len'] = data.apply(track_name_length, axis=1)\n",
    "    data['track_name_words'] = data.apply(track_name_words, axis=1)\n",
    "\n",
    "if 'track_name' in test_data:\n",
    "    test_data['track_name_len'] = test_data.apply(track_name_length, axis=1)\n",
    "    test_data['track_name_words'] = test_data.apply(track_name_words, axis=1)\n",
    "\n",
    "\n",
    "data['track_name_len'].head()"
   ]
  },
  {
   "cell_type": "code",
   "execution_count": 78,
   "id": "65d7e286-d553-4f72-af5e-fef90ed3542b",
   "metadata": {},
   "outputs": [
    {
     "data": {
      "text/plain": [
       "0    3\n",
       "1    0\n",
       "2    5\n",
       "3    0\n",
       "4    2\n",
       "Name: track_name_words, dtype: int64"
      ]
     },
     "execution_count": 78,
     "metadata": {},
     "output_type": "execute_result"
    }
   ],
   "source": [
    "data['track_name_words'].head()"
   ]
  },
  {
   "cell_type": "markdown",
   "id": "220e66ec-83b6-4093-9c53-f3b952e50c31",
   "metadata": {},
   "source": [
    "## Удалим неиспользуемые поля"
   ]
  },
  {
   "cell_type": "code",
   "execution_count": 79,
   "id": "55159a2c-d4ac-45c1-9a08-52ecc9f24d92",
   "metadata": {},
   "outputs": [
    {
     "name": "stdout",
     "output_type": "stream",
     "text": [
      "<class 'pandas.core.frame.DataFrame'>\n",
      "RangeIndex: 40000 entries, 0 to 39999\n",
      "Data columns (total 13 columns):\n",
      " #   Column            Non-Null Count  Dtype   \n",
      "---  ------            --------------  -----   \n",
      " 0   popularity        40000 non-null  float64 \n",
      " 1   acousticness      40000 non-null  float64 \n",
      " 2   danceability      40000 non-null  float64 \n",
      " 3   instrumentalness  40000 non-null  float64 \n",
      " 4   liveness          40000 non-null  float64 \n",
      " 5   loudness          40000 non-null  float64 \n",
      " 6   speechiness       40000 non-null  float64 \n",
      " 7   tempo             40000 non-null  float64 \n",
      " 8   valence           40000 non-null  float64 \n",
      " 9   music_genre       40000 non-null  category\n",
      " 10  energy_log        40000 non-null  float64 \n",
      " 11  track_name_len    40000 non-null  int64   \n",
      " 12  track_name_words  40000 non-null  int64   \n",
      "dtypes: category(1), float64(10), int64(2)\n",
      "memory usage: 3.7 MB\n"
     ]
    }
   ],
   "source": [
    "def remove_unused(data):\n",
    "\n",
    "    unused_fields = [\n",
    "        'instance_id',\n",
    "        'track_name',\n",
    "        'obtained_date',\n",
    "        'energy',\n",
    "        'key',\n",
    "        'mode',\n",
    "        'duration_ms'\n",
    "    ]\n",
    "\n",
    "    if set(unused_fields).issubset(data.columns):\n",
    "        data = data.drop(unused_fields, axis=1)\n",
    "    \n",
    "    return data\n",
    "test_data_raw = test_data.copy()\n",
    "data = remove_unused(data)\n",
    "test_data = remove_unused(test_data)\n",
    "\n",
    "data.info()"
   ]
  },
  {
   "cell_type": "code",
   "execution_count": 80,
   "id": "30a8ee9a-c12d-49d0-96b0-16beaa10d7e6",
   "metadata": {},
   "outputs": [
    {
     "name": "stdout",
     "output_type": "stream",
     "text": [
      "<class 'pandas.core.frame.DataFrame'>\n",
      "RangeIndex: 10000 entries, 0 to 9999\n",
      "Data columns (total 12 columns):\n",
      " #   Column            Non-Null Count  Dtype  \n",
      "---  ------            --------------  -----  \n",
      " 0   popularity        10000 non-null  float64\n",
      " 1   acousticness      10000 non-null  float64\n",
      " 2   danceability      10000 non-null  float64\n",
      " 3   instrumentalness  10000 non-null  float64\n",
      " 4   liveness          10000 non-null  float64\n",
      " 5   loudness          10000 non-null  float64\n",
      " 6   speechiness       10000 non-null  float64\n",
      " 7   tempo             10000 non-null  float64\n",
      " 8   valence           10000 non-null  float64\n",
      " 9   energy_log        10000 non-null  float64\n",
      " 10  track_name_len    10000 non-null  int64  \n",
      " 11  track_name_words  10000 non-null  int64  \n",
      "dtypes: float64(10), int64(2)\n",
      "memory usage: 937.6 KB\n"
     ]
    }
   ],
   "source": [
    "test_data.info()"
   ]
  },
  {
   "cell_type": "markdown",
   "id": "8c4af293-a24b-4f73-907c-a1eff6dc262d",
   "metadata": {},
   "source": [
    "## Проверим на дубликаты"
   ]
  },
  {
   "cell_type": "code",
   "execution_count": 81,
   "id": "99328547-6cfe-47ed-82be-398564487134",
   "metadata": {},
   "outputs": [
    {
     "name": "stdout",
     "output_type": "stream",
     "text": [
      "\"data\" до удаления дубликатов: (40000, 13), после: (40000, 13)\n"
     ]
    }
   ],
   "source": [
    "train_len_before = data.shape\n",
    "data = data.drop_duplicates(keep='last')\n",
    "train_len_after = data.shape\n",
    "\n",
    "print(f'\"data\" до удаления дубликатов: {train_len_before}, после: {train_len_after}')"
   ]
  },
  {
   "cell_type": "markdown",
   "id": "900e694e-0332-488d-918b-1bb4238fb38d",
   "metadata": {},
   "source": [
    "Явных дубликатов нет"
   ]
  },
  {
   "cell_type": "markdown",
   "id": "48b12cbe-f512-4c85-a428-89eb34742dba",
   "metadata": {},
   "source": [
    "# Преобразование колонок"
   ]
  },
  {
   "cell_type": "code",
   "execution_count": 83,
   "id": "1b4e8c6e-0b4a-4a9d-a048-8ca702032044",
   "metadata": {},
   "outputs": [
    {
     "data": {
      "text/html": [
       "<style>#sk-container-id-4 {color: black;background-color: white;}#sk-container-id-4 pre{padding: 0;}#sk-container-id-4 div.sk-toggleable {background-color: white;}#sk-container-id-4 label.sk-toggleable__label {cursor: pointer;display: block;width: 100%;margin-bottom: 0;padding: 0.3em;box-sizing: border-box;text-align: center;}#sk-container-id-4 label.sk-toggleable__label-arrow:before {content: \"▸\";float: left;margin-right: 0.25em;color: #696969;}#sk-container-id-4 label.sk-toggleable__label-arrow:hover:before {color: black;}#sk-container-id-4 div.sk-estimator:hover label.sk-toggleable__label-arrow:before {color: black;}#sk-container-id-4 div.sk-toggleable__content {max-height: 0;max-width: 0;overflow: hidden;text-align: left;background-color: #f0f8ff;}#sk-container-id-4 div.sk-toggleable__content pre {margin: 0.2em;color: black;border-radius: 0.25em;background-color: #f0f8ff;}#sk-container-id-4 input.sk-toggleable__control:checked~div.sk-toggleable__content {max-height: 200px;max-width: 100%;overflow: auto;}#sk-container-id-4 input.sk-toggleable__control:checked~label.sk-toggleable__label-arrow:before {content: \"▾\";}#sk-container-id-4 div.sk-estimator input.sk-toggleable__control:checked~label.sk-toggleable__label {background-color: #d4ebff;}#sk-container-id-4 div.sk-label input.sk-toggleable__control:checked~label.sk-toggleable__label {background-color: #d4ebff;}#sk-container-id-4 input.sk-hidden--visually {border: 0;clip: rect(1px 1px 1px 1px);clip: rect(1px, 1px, 1px, 1px);height: 1px;margin: -1px;overflow: hidden;padding: 0;position: absolute;width: 1px;}#sk-container-id-4 div.sk-estimator {font-family: monospace;background-color: #f0f8ff;border: 1px dotted black;border-radius: 0.25em;box-sizing: border-box;margin-bottom: 0.5em;}#sk-container-id-4 div.sk-estimator:hover {background-color: #d4ebff;}#sk-container-id-4 div.sk-parallel-item::after {content: \"\";width: 100%;border-bottom: 1px solid gray;flex-grow: 1;}#sk-container-id-4 div.sk-label:hover label.sk-toggleable__label {background-color: #d4ebff;}#sk-container-id-4 div.sk-serial::before {content: \"\";position: absolute;border-left: 1px solid gray;box-sizing: border-box;top: 0;bottom: 0;left: 50%;z-index: 0;}#sk-container-id-4 div.sk-serial {display: flex;flex-direction: column;align-items: center;background-color: white;padding-right: 0.2em;padding-left: 0.2em;position: relative;}#sk-container-id-4 div.sk-item {position: relative;z-index: 1;}#sk-container-id-4 div.sk-parallel {display: flex;align-items: stretch;justify-content: center;background-color: white;position: relative;}#sk-container-id-4 div.sk-item::before, #sk-container-id-4 div.sk-parallel-item::before {content: \"\";position: absolute;border-left: 1px solid gray;box-sizing: border-box;top: 0;bottom: 0;left: 50%;z-index: -1;}#sk-container-id-4 div.sk-parallel-item {display: flex;flex-direction: column;z-index: 1;position: relative;background-color: white;}#sk-container-id-4 div.sk-parallel-item:first-child::after {align-self: flex-end;width: 50%;}#sk-container-id-4 div.sk-parallel-item:last-child::after {align-self: flex-start;width: 50%;}#sk-container-id-4 div.sk-parallel-item:only-child::after {width: 0;}#sk-container-id-4 div.sk-dashed-wrapped {border: 1px dashed gray;margin: 0 0.4em 0.5em 0.4em;box-sizing: border-box;padding-bottom: 0.4em;background-color: white;}#sk-container-id-4 div.sk-label label {font-family: monospace;font-weight: bold;display: inline-block;line-height: 1.2em;}#sk-container-id-4 div.sk-label-container {text-align: center;}#sk-container-id-4 div.sk-container {/* jupyter's `normalize.less` sets `[hidden] { display: none; }` but bootstrap.min.css set `[hidden] { display: none !important; }` so we also need the `!important` here to be able to override the default hidden behavior on the sphinx rendered scikit-learn.org. See: https://github.com/scikit-learn/scikit-learn/issues/21755 */display: inline-block !important;position: relative;}#sk-container-id-4 div.sk-text-repr-fallback {display: none;}</style><div id=\"sk-container-id-4\" class=\"sk-top-container\"><div class=\"sk-text-repr-fallback\"><pre>ColumnTransformer(remainder=&#x27;passthrough&#x27;,\n",
       "                  transformers=[(&#x27;pipeline&#x27;,\n",
       "                                 Pipeline(steps=[(&#x27;minmaxscaler&#x27;,\n",
       "                                                  MinMaxScaler()),\n",
       "                                                 (&#x27;polynomialfeatures&#x27;,\n",
       "                                                  PolynomialFeatures()),\n",
       "                                                 (&#x27;dropcorrelatedfeatures&#x27;,\n",
       "                                                  DropCorrelatedFeatures(threshold=0.9)),\n",
       "                                                 (&#x27;dropconstantfeatures&#x27;,\n",
       "                                                  DropConstantFeatures())]),\n",
       "                                 [&#x27;popularity&#x27;, &#x27;acousticness&#x27;, &#x27;danceability&#x27;,\n",
       "                                  &#x27;instrumentalness&#x27;, &#x27;liveness&#x27;, &#x27;loudness&#x27;,\n",
       "                                  &#x27;speechiness&#x27;, &#x27;tempo&#x27;, &#x27;valence&#x27;,\n",
       "                                  &#x27;track_name_len&#x27;, &#x27;track_name_words&#x27;,\n",
       "                                  &#x27;energy_log&#x27;]),\n",
       "                                (&#x27;onehotencoder&#x27;, OneHotEncoder(drop=&#x27;first&#x27;),\n",
       "                                 &lt;sklearn.compose._column_transformer.make_column_selector object at 0x14800c090&gt;)])</pre><b>In a Jupyter environment, please rerun this cell to show the HTML representation or trust the notebook. <br />On GitHub, the HTML representation is unable to render, please try loading this page with nbviewer.org.</b></div><div class=\"sk-container\" hidden><div class=\"sk-item sk-dashed-wrapped\"><div class=\"sk-label-container\"><div class=\"sk-label sk-toggleable\"><input class=\"sk-toggleable__control sk-hidden--visually\" id=\"sk-estimator-id-31\" type=\"checkbox\" ><label for=\"sk-estimator-id-31\" class=\"sk-toggleable__label sk-toggleable__label-arrow\">ColumnTransformer</label><div class=\"sk-toggleable__content\"><pre>ColumnTransformer(remainder=&#x27;passthrough&#x27;,\n",
       "                  transformers=[(&#x27;pipeline&#x27;,\n",
       "                                 Pipeline(steps=[(&#x27;minmaxscaler&#x27;,\n",
       "                                                  MinMaxScaler()),\n",
       "                                                 (&#x27;polynomialfeatures&#x27;,\n",
       "                                                  PolynomialFeatures()),\n",
       "                                                 (&#x27;dropcorrelatedfeatures&#x27;,\n",
       "                                                  DropCorrelatedFeatures(threshold=0.9)),\n",
       "                                                 (&#x27;dropconstantfeatures&#x27;,\n",
       "                                                  DropConstantFeatures())]),\n",
       "                                 [&#x27;popularity&#x27;, &#x27;acousticness&#x27;, &#x27;danceability&#x27;,\n",
       "                                  &#x27;instrumentalness&#x27;, &#x27;liveness&#x27;, &#x27;loudness&#x27;,\n",
       "                                  &#x27;speechiness&#x27;, &#x27;tempo&#x27;, &#x27;valence&#x27;,\n",
       "                                  &#x27;track_name_len&#x27;, &#x27;track_name_words&#x27;,\n",
       "                                  &#x27;energy_log&#x27;]),\n",
       "                                (&#x27;onehotencoder&#x27;, OneHotEncoder(drop=&#x27;first&#x27;),\n",
       "                                 &lt;sklearn.compose._column_transformer.make_column_selector object at 0x14800c090&gt;)])</pre></div></div></div><div class=\"sk-parallel\"><div class=\"sk-parallel-item\"><div class=\"sk-item\"><div class=\"sk-label-container\"><div class=\"sk-label sk-toggleable\"><input class=\"sk-toggleable__control sk-hidden--visually\" id=\"sk-estimator-id-32\" type=\"checkbox\" ><label for=\"sk-estimator-id-32\" class=\"sk-toggleable__label sk-toggleable__label-arrow\">pipeline</label><div class=\"sk-toggleable__content\"><pre>[&#x27;popularity&#x27;, &#x27;acousticness&#x27;, &#x27;danceability&#x27;, &#x27;instrumentalness&#x27;, &#x27;liveness&#x27;, &#x27;loudness&#x27;, &#x27;speechiness&#x27;, &#x27;tempo&#x27;, &#x27;valence&#x27;, &#x27;track_name_len&#x27;, &#x27;track_name_words&#x27;, &#x27;energy_log&#x27;]</pre></div></div></div><div class=\"sk-serial\"><div class=\"sk-item\"><div class=\"sk-serial\"><div class=\"sk-item\"><div class=\"sk-estimator sk-toggleable\"><input class=\"sk-toggleable__control sk-hidden--visually\" id=\"sk-estimator-id-33\" type=\"checkbox\" ><label for=\"sk-estimator-id-33\" class=\"sk-toggleable__label sk-toggleable__label-arrow\">MinMaxScaler</label><div class=\"sk-toggleable__content\"><pre>MinMaxScaler()</pre></div></div></div><div class=\"sk-item\"><div class=\"sk-estimator sk-toggleable\"><input class=\"sk-toggleable__control sk-hidden--visually\" id=\"sk-estimator-id-34\" type=\"checkbox\" ><label for=\"sk-estimator-id-34\" class=\"sk-toggleable__label sk-toggleable__label-arrow\">PolynomialFeatures</label><div class=\"sk-toggleable__content\"><pre>PolynomialFeatures()</pre></div></div></div><div class=\"sk-item\"><div class=\"sk-estimator sk-toggleable\"><input class=\"sk-toggleable__control sk-hidden--visually\" id=\"sk-estimator-id-35\" type=\"checkbox\" ><label for=\"sk-estimator-id-35\" class=\"sk-toggleable__label sk-toggleable__label-arrow\">DropCorrelatedFeatures</label><div class=\"sk-toggleable__content\"><pre>DropCorrelatedFeatures(threshold=0.9)</pre></div></div></div><div class=\"sk-item\"><div class=\"sk-estimator sk-toggleable\"><input class=\"sk-toggleable__control sk-hidden--visually\" id=\"sk-estimator-id-36\" type=\"checkbox\" ><label for=\"sk-estimator-id-36\" class=\"sk-toggleable__label sk-toggleable__label-arrow\">DropConstantFeatures</label><div class=\"sk-toggleable__content\"><pre>DropConstantFeatures()</pre></div></div></div></div></div></div></div></div><div class=\"sk-parallel-item\"><div class=\"sk-item\"><div class=\"sk-label-container\"><div class=\"sk-label sk-toggleable\"><input class=\"sk-toggleable__control sk-hidden--visually\" id=\"sk-estimator-id-37\" type=\"checkbox\" ><label for=\"sk-estimator-id-37\" class=\"sk-toggleable__label sk-toggleable__label-arrow\">onehotencoder</label><div class=\"sk-toggleable__content\"><pre>&lt;sklearn.compose._column_transformer.make_column_selector object at 0x14800c090&gt;</pre></div></div></div><div class=\"sk-serial\"><div class=\"sk-item\"><div class=\"sk-estimator sk-toggleable\"><input class=\"sk-toggleable__control sk-hidden--visually\" id=\"sk-estimator-id-38\" type=\"checkbox\" ><label for=\"sk-estimator-id-38\" class=\"sk-toggleable__label sk-toggleable__label-arrow\">OneHotEncoder</label><div class=\"sk-toggleable__content\"><pre>OneHotEncoder(drop=&#x27;first&#x27;)</pre></div></div></div></div></div></div><div class=\"sk-parallel-item\"><div class=\"sk-item\"><div class=\"sk-label-container\"><div class=\"sk-label sk-toggleable\"><input class=\"sk-toggleable__control sk-hidden--visually\" id=\"sk-estimator-id-39\" type=\"checkbox\" ><label for=\"sk-estimator-id-39\" class=\"sk-toggleable__label sk-toggleable__label-arrow\">remainder</label><div class=\"sk-toggleable__content\"><pre></pre></div></div></div><div class=\"sk-serial\"><div class=\"sk-item\"><div class=\"sk-estimator sk-toggleable\"><input class=\"sk-toggleable__control sk-hidden--visually\" id=\"sk-estimator-id-40\" type=\"checkbox\" ><label for=\"sk-estimator-id-40\" class=\"sk-toggleable__label sk-toggleable__label-arrow\">passthrough</label><div class=\"sk-toggleable__content\"><pre>passthrough</pre></div></div></div></div></div></div></div></div></div></div>"
      ],
      "text/plain": [
       "ColumnTransformer(remainder='passthrough',\n",
       "                  transformers=[('pipeline',\n",
       "                                 Pipeline(steps=[('minmaxscaler',\n",
       "                                                  MinMaxScaler()),\n",
       "                                                 ('polynomialfeatures',\n",
       "                                                  PolynomialFeatures()),\n",
       "                                                 ('dropcorrelatedfeatures',\n",
       "                                                  DropCorrelatedFeatures(threshold=0.9)),\n",
       "                                                 ('dropconstantfeatures',\n",
       "                                                  DropConstantFeatures())]),\n",
       "                                 ['popularity', 'acousticness', 'danceability',\n",
       "                                  'instrumentalness', 'liveness', 'loudness',\n",
       "                                  'speechiness', 'tempo', 'valence',\n",
       "                                  'track_name_len', 'track_name_words',\n",
       "                                  'energy_log']),\n",
       "                                ('onehotencoder', OneHotEncoder(drop='first'),\n",
       "                                 <sklearn.compose._column_transformer.make_column_selector object at 0x14800c090>)])"
      ]
     },
     "execution_count": 83,
     "metadata": {},
     "output_type": "execute_result"
    }
   ],
   "source": [
    "cat_colunmns = ['key']\n",
    "binary_colunmns = ['mode']\n",
    "num_columns = [\n",
    "    'popularity',\n",
    "    'acousticness',\n",
    "    'danceability',\n",
    "    'instrumentalness',\n",
    "    'liveness',\n",
    "    'loudness',\n",
    "    'speechiness',\n",
    "    'tempo',\n",
    "    'valence',\n",
    "    'track_name_len',\n",
    "    'track_name_words',\n",
    "    'energy_log'\n",
    "]\n",
    "\n",
    "num_pipeline = make_imblearn_pipeline(\n",
    "    # Масштабирование данных\n",
    "    MinMaxScaler(),\n",
    "    # Для выявления нелинейных связей между признаками и целевым показателем\n",
    "    PolynomialFeatures(),\n",
    "    # Для удаления коррелирующих переменных (для ускорения, тк если переменные одинаково коррелируют, то нет смысла их все использовать)\n",
    "    DropCorrelatedFeatures(threshold=0.9),\n",
    "    # Для удаления постоянных и квази-постоянных переменных\n",
    "    DropConstantFeatures(),\n",
    ")\n",
    "\n",
    "column_transformer = make_column_transformer(\n",
    "    (num_pipeline, num_columns),\n",
    "    # (OrdinalEncoder(), cat_colunmns),\n",
    "    (OneHotEncoder(drop='first'), make_column_selector(dtype_include='category')),\n",
    "    remainder='passthrough'\n",
    ")\n",
    "\n",
    "column_transformer"
   ]
  },
  {
   "cell_type": "markdown",
   "id": "f6c9d639-5978-42bc-8dd4-7cdb1f376105",
   "metadata": {},
   "source": [
    "# Выделение параметров и целевых признаков"
   ]
  },
  {
   "cell_type": "code",
   "execution_count": 84,
   "id": "36c64519-89b0-42f2-97a4-fc8c7ffd6fae",
   "metadata": {},
   "outputs": [
    {
     "data": {
      "text/plain": [
       "0     Electronic\n",
       "1    Alternative\n",
       "2      Classical\n",
       "3     Electronic\n",
       "4        Country\n",
       "Name: music_genre, dtype: category\n",
       "Categories (10, object): ['Alternative', 'Anime', 'Blues', 'Classical', ..., 'Hip-Hop', 'Jazz', 'Rap', 'Rock']"
      ]
     },
     "execution_count": 84,
     "metadata": {},
     "output_type": "execute_result"
    }
   ],
   "source": [
    "X = data.copy().drop(columns='music_genre')\n",
    "y = data.copy()['music_genre']\n",
    "\n",
    "y.head()"
   ]
  },
  {
   "cell_type": "code",
   "execution_count": 85,
   "id": "5d65360d-50b2-409b-be2c-4b0a7e169733",
   "metadata": {},
   "outputs": [
    {
     "data": {
      "text/html": [
       "<div>\n",
       "<style scoped>\n",
       "    .dataframe tbody tr th:only-of-type {\n",
       "        vertical-align: middle;\n",
       "    }\n",
       "\n",
       "    .dataframe tbody tr th {\n",
       "        vertical-align: top;\n",
       "    }\n",
       "\n",
       "    .dataframe thead th {\n",
       "        text-align: right;\n",
       "    }\n",
       "</style>\n",
       "<table border=\"1\" class=\"dataframe\">\n",
       "  <thead>\n",
       "    <tr style=\"text-align: right;\">\n",
       "      <th></th>\n",
       "      <th>popularity</th>\n",
       "      <th>acousticness</th>\n",
       "      <th>danceability</th>\n",
       "      <th>instrumentalness</th>\n",
       "      <th>liveness</th>\n",
       "      <th>loudness</th>\n",
       "      <th>speechiness</th>\n",
       "      <th>tempo</th>\n",
       "      <th>valence</th>\n",
       "      <th>energy_log</th>\n",
       "      <th>track_name_len</th>\n",
       "      <th>track_name_words</th>\n",
       "    </tr>\n",
       "  </thead>\n",
       "  <tbody>\n",
       "    <tr>\n",
       "      <th>0</th>\n",
       "      <td>33.0</td>\n",
       "      <td>0.000718</td>\n",
       "      <td>0.501</td>\n",
       "      <td>0.020100</td>\n",
       "      <td>0.0831</td>\n",
       "      <td>-5.566</td>\n",
       "      <td>0.1570</td>\n",
       "      <td>144.922</td>\n",
       "      <td>0.1880</td>\n",
       "      <td>0.660107</td>\n",
       "      <td>12</td>\n",
       "      <td>3</td>\n",
       "    </tr>\n",
       "    <tr>\n",
       "      <th>1</th>\n",
       "      <td>55.0</td>\n",
       "      <td>0.064700</td>\n",
       "      <td>0.282</td>\n",
       "      <td>0.014200</td>\n",
       "      <td>0.2900</td>\n",
       "      <td>-5.566</td>\n",
       "      <td>0.0324</td>\n",
       "      <td>126.914</td>\n",
       "      <td>0.2110</td>\n",
       "      <td>0.552735</td>\n",
       "      <td>0</td>\n",
       "      <td>0</td>\n",
       "    </tr>\n",
       "    <tr>\n",
       "      <th>2</th>\n",
       "      <td>39.0</td>\n",
       "      <td>0.931000</td>\n",
       "      <td>0.364</td>\n",
       "      <td>0.940000</td>\n",
       "      <td>0.1100</td>\n",
       "      <td>-13.279</td>\n",
       "      <td>0.0321</td>\n",
       "      <td>65.427</td>\n",
       "      <td>0.0891</td>\n",
       "      <td>0.299364</td>\n",
       "      <td>27</td>\n",
       "      <td>5</td>\n",
       "    </tr>\n",
       "    <tr>\n",
       "      <th>3</th>\n",
       "      <td>56.0</td>\n",
       "      <td>0.012300</td>\n",
       "      <td>0.332</td>\n",
       "      <td>0.000027</td>\n",
       "      <td>0.2970</td>\n",
       "      <td>-4.513</td>\n",
       "      <td>0.0910</td>\n",
       "      <td>67.230</td>\n",
       "      <td>0.3920</td>\n",
       "      <td>0.613563</td>\n",
       "      <td>0</td>\n",
       "      <td>0</td>\n",
       "    </tr>\n",
       "    <tr>\n",
       "      <th>4</th>\n",
       "      <td>52.0</td>\n",
       "      <td>0.580000</td>\n",
       "      <td>0.716</td>\n",
       "      <td>0.000014</td>\n",
       "      <td>0.1600</td>\n",
       "      <td>-7.099</td>\n",
       "      <td>0.0360</td>\n",
       "      <td>88.006</td>\n",
       "      <td>0.6800</td>\n",
       "      <td>0.478716</td>\n",
       "      <td>13</td>\n",
       "      <td>2</td>\n",
       "    </tr>\n",
       "  </tbody>\n",
       "</table>\n",
       "</div>"
      ],
      "text/plain": [
       "   popularity  acousticness  danceability  instrumentalness  liveness  \\\n",
       "0        33.0      0.000718         0.501          0.020100    0.0831   \n",
       "1        55.0      0.064700         0.282          0.014200    0.2900   \n",
       "2        39.0      0.931000         0.364          0.940000    0.1100   \n",
       "3        56.0      0.012300         0.332          0.000027    0.2970   \n",
       "4        52.0      0.580000         0.716          0.000014    0.1600   \n",
       "\n",
       "   loudness  speechiness    tempo  valence  energy_log  track_name_len  \\\n",
       "0    -5.566       0.1570  144.922   0.1880    0.660107              12   \n",
       "1    -5.566       0.0324  126.914   0.2110    0.552735               0   \n",
       "2   -13.279       0.0321   65.427   0.0891    0.299364              27   \n",
       "3    -4.513       0.0910   67.230   0.3920    0.613563               0   \n",
       "4    -7.099       0.0360   88.006   0.6800    0.478716              13   \n",
       "\n",
       "   track_name_words  \n",
       "0                 3  \n",
       "1                 0  \n",
       "2                 5  \n",
       "3                 0  \n",
       "4                 2  "
      ]
     },
     "execution_count": 85,
     "metadata": {},
     "output_type": "execute_result"
    }
   ],
   "source": [
    "X.head()"
   ]
  },
  {
   "cell_type": "code",
   "execution_count": 86,
   "id": "98ba7d91-c116-4daa-8b76-6c99d64fd467",
   "metadata": {},
   "outputs": [
    {
     "data": {
      "text/plain": [
       "0     Electronic\n",
       "1    Alternative\n",
       "2      Classical\n",
       "3     Electronic\n",
       "4        Country\n",
       "Name: music_genre, dtype: category\n",
       "Categories (10, object): ['Alternative', 'Anime', 'Blues', 'Classical', ..., 'Hip-Hop', 'Jazz', 'Rap', 'Rock']"
      ]
     },
     "execution_count": 86,
     "metadata": {},
     "output_type": "execute_result"
    }
   ],
   "source": [
    "y.head()"
   ]
  },
  {
   "cell_type": "code",
   "execution_count": 87,
   "id": "5888d558-37d3-4ceb-a842-f3620d589e37",
   "metadata": {},
   "outputs": [],
   "source": [
    "X_train = X\n",
    "y_train = y"
   ]
  },
  {
   "cell_type": "markdown",
   "id": "8a9d8300-d1e0-48fc-8907-58b682c7cee1",
   "metadata": {},
   "source": [
    "# Pipeline"
   ]
  },
  {
   "cell_type": "code",
   "execution_count": 88,
   "id": "fd5193d2-50a0-4f6c-8bd5-a2bb8c5258bc",
   "metadata": {},
   "outputs": [],
   "source": [
    "#  MinMaxScaler показал лучшие результаты, по сравнению со StandardScaler\n",
    "common_params = {\n",
    "    # 'columntransformer__standardscaler': [StandardScaler(), MinMaxScaler()],\n",
    "}\n",
    "\n",
    "models = [\n",
    "#     {\n",
    "#         'clf': KNeighborsClassifier,\n",
    "#         'title': 'Nearest Neighbors',\n",
    "#         'initial': dict(\n",
    "#             n_neighbors=15\n",
    "#         ),\n",
    "#         'pipeline': None,\n",
    "#         'name': 'kneighborsclassifier',\n",
    "#         'params': {\n",
    "#             # 'kneighborsclassifier__n_neighbors': [10, 15],\n",
    "#             # 'kneighborsclassifier__algorithm': ['auto', 'ball_tree', 'kd_tree', 'brute'],\n",
    "#             'kneighborsclassifier__n_jobs': [-1],\n",
    "#         }\n",
    "#     },\n",
    "#     {\n",
    "#         'clf': DecisionTreeClassifier,\n",
    "#         'title': 'Decision Tree',\n",
    "#         'initial': dict(random_state=RANDOM_STATE),\n",
    "#         'pipeline': None,\n",
    "#         'name': 'decisiontreeclassifier',\n",
    "#         'params': {\n",
    "#             # 'decisiontreeclassifier__max_depth': [1,2,3,4,5,6,7,8,9,10],\n",
    "#         }\n",
    "#     },\n",
    "#      {\n",
    "#         'clf': MLPClassifier,\n",
    "#         'title': 'Neural Net',\n",
    "#         'initial': dict(random_state=RANDOM_STATE),\n",
    "#         'pipeline': None,\n",
    "#         'name': 'mlpclassifier',\n",
    "#         'params': {\n",
    "#             # 'mlpclassifier__alpha': [1, 3, 5],\n",
    "#             # 'mlpclassifier__max_iter': [1000, 1200, 1500],\n",
    "#         }\n",
    "#     },\n",
    "\n",
    "#     {\n",
    "#         # Лучший результат – с дефолтными параметрами\n",
    "#         'clf': RandomForestClassifier,\n",
    "#         'title': 'Random Forest',\n",
    "#         'initial': dict(\n",
    "#             random_state=RANDOM_STATE,\n",
    "#             # n_estimators=200,\n",
    "#             # max_leaf_nodes=12,\n",
    "#             # min_samples_split=3,\n",
    "#             # criterion='gini',\n",
    "#             # max_depth=20\n",
    "#         ),\n",
    "#         'pipeline': None,\n",
    "#         'name': 'randomforestclassifier',\n",
    "#         'params': {\n",
    "#             # 'randomforestclassifier__min_samples_split': [1, 3],\n",
    "#             # 'randomforestclassifier__max_leaf_nodes': [1, 4, 8],\n",
    "#             # 'randomforestclassifier__max_depth': [4, 8, 12],\n",
    "#             # 'randomforestclassifier__criterion': ['gini', 'entropy'],\n",
    "#         },\n",
    "#         'grid': None\n",
    "#     },\n",
    "    {\n",
    "        'clf': CatBoostClassifier,\n",
    "        'title': 'CatBoost',\n",
    "        'initial': dict(\n",
    "            verbose=False,\n",
    "            # learning_rate=0.1, \n",
    "        ),\n",
    "        'pipeline': None,\n",
    "        'name': 'catboostclassifier',\n",
    "        'params': {\n",
    "            'catboostclassifier__depth': [4, 8],\n",
    "            'catboostclassifier__iterations': [ 1000],\n",
    "            'catboostclassifier__learning_rate': [ 0.1], \n",
    "            'catboostclassifier__l2_leaf_reg': [100],\n",
    "            'catboostclassifier__border_count': [200],\n",
    "            'catboostclassifier__thread_count': [4]\n",
    "        },\n",
    "        'grid': None\n",
    "    }\n",
    "    \n",
    "]\n",
    "    \n",
    "for idx, model in enumerate(models):\n",
    "    clf = model['clf']\n",
    "    initial = model['initial']\n",
    "    m = clf(**initial)\n",
    "    pipeline = make_pipeline(column_transformer, m)\n",
    "    models[idx]['pipeline'] = pipeline"
   ]
  },
  {
   "cell_type": "markdown",
   "id": "9c168a3c-ac7b-4235-b585-1762e95b7b94",
   "metadata": {},
   "source": [
    "# Grid Search"
   ]
  },
  {
   "cell_type": "code",
   "execution_count": 89,
   "id": "030902ee-57ad-441f-9137-dcb64ab087e0",
   "metadata": {
    "tags": []
   },
   "outputs": [
    {
     "data": {
      "text/html": [
       "<div>\n",
       "<style scoped>\n",
       "    .dataframe tbody tr th:only-of-type {\n",
       "        vertical-align: middle;\n",
       "    }\n",
       "\n",
       "    .dataframe tbody tr th {\n",
       "        vertical-align: top;\n",
       "    }\n",
       "\n",
       "    .dataframe thead th {\n",
       "        text-align: right;\n",
       "    }\n",
       "</style>\n",
       "<table border=\"1\" class=\"dataframe\">\n",
       "  <thead>\n",
       "    <tr style=\"text-align: right;\">\n",
       "      <th></th>\n",
       "      <th>popularity</th>\n",
       "      <th>acousticness</th>\n",
       "      <th>danceability</th>\n",
       "      <th>instrumentalness</th>\n",
       "      <th>liveness</th>\n",
       "      <th>loudness</th>\n",
       "      <th>speechiness</th>\n",
       "      <th>tempo</th>\n",
       "      <th>valence</th>\n",
       "      <th>energy_log</th>\n",
       "      <th>track_name_len</th>\n",
       "      <th>track_name_words</th>\n",
       "    </tr>\n",
       "  </thead>\n",
       "  <tbody>\n",
       "    <tr>\n",
       "      <th>0</th>\n",
       "      <td>33.0</td>\n",
       "      <td>0.000718</td>\n",
       "      <td>0.501</td>\n",
       "      <td>0.020100</td>\n",
       "      <td>0.0831</td>\n",
       "      <td>-5.566</td>\n",
       "      <td>0.1570</td>\n",
       "      <td>144.922</td>\n",
       "      <td>0.1880</td>\n",
       "      <td>0.660107</td>\n",
       "      <td>12</td>\n",
       "      <td>3</td>\n",
       "    </tr>\n",
       "    <tr>\n",
       "      <th>1</th>\n",
       "      <td>55.0</td>\n",
       "      <td>0.064700</td>\n",
       "      <td>0.282</td>\n",
       "      <td>0.014200</td>\n",
       "      <td>0.2900</td>\n",
       "      <td>-5.566</td>\n",
       "      <td>0.0324</td>\n",
       "      <td>126.914</td>\n",
       "      <td>0.2110</td>\n",
       "      <td>0.552735</td>\n",
       "      <td>0</td>\n",
       "      <td>0</td>\n",
       "    </tr>\n",
       "    <tr>\n",
       "      <th>2</th>\n",
       "      <td>39.0</td>\n",
       "      <td>0.931000</td>\n",
       "      <td>0.364</td>\n",
       "      <td>0.940000</td>\n",
       "      <td>0.1100</td>\n",
       "      <td>-13.279</td>\n",
       "      <td>0.0321</td>\n",
       "      <td>65.427</td>\n",
       "      <td>0.0891</td>\n",
       "      <td>0.299364</td>\n",
       "      <td>27</td>\n",
       "      <td>5</td>\n",
       "    </tr>\n",
       "    <tr>\n",
       "      <th>3</th>\n",
       "      <td>56.0</td>\n",
       "      <td>0.012300</td>\n",
       "      <td>0.332</td>\n",
       "      <td>0.000027</td>\n",
       "      <td>0.2970</td>\n",
       "      <td>-4.513</td>\n",
       "      <td>0.0910</td>\n",
       "      <td>67.230</td>\n",
       "      <td>0.3920</td>\n",
       "      <td>0.613563</td>\n",
       "      <td>0</td>\n",
       "      <td>0</td>\n",
       "    </tr>\n",
       "    <tr>\n",
       "      <th>4</th>\n",
       "      <td>52.0</td>\n",
       "      <td>0.580000</td>\n",
       "      <td>0.716</td>\n",
       "      <td>0.000014</td>\n",
       "      <td>0.1600</td>\n",
       "      <td>-7.099</td>\n",
       "      <td>0.0360</td>\n",
       "      <td>88.006</td>\n",
       "      <td>0.6800</td>\n",
       "      <td>0.478716</td>\n",
       "      <td>13</td>\n",
       "      <td>2</td>\n",
       "    </tr>\n",
       "  </tbody>\n",
       "</table>\n",
       "</div>"
      ],
      "text/plain": [
       "   popularity  acousticness  danceability  instrumentalness  liveness  \\\n",
       "0        33.0      0.000718         0.501          0.020100    0.0831   \n",
       "1        55.0      0.064700         0.282          0.014200    0.2900   \n",
       "2        39.0      0.931000         0.364          0.940000    0.1100   \n",
       "3        56.0      0.012300         0.332          0.000027    0.2970   \n",
       "4        52.0      0.580000         0.716          0.000014    0.1600   \n",
       "\n",
       "   loudness  speechiness    tempo  valence  energy_log  track_name_len  \\\n",
       "0    -5.566       0.1570  144.922   0.1880    0.660107              12   \n",
       "1    -5.566       0.0324  126.914   0.2110    0.552735               0   \n",
       "2   -13.279       0.0321   65.427   0.0891    0.299364              27   \n",
       "3    -4.513       0.0910   67.230   0.3920    0.613563               0   \n",
       "4    -7.099       0.0360   88.006   0.6800    0.478716              13   \n",
       "\n",
       "   track_name_words  \n",
       "0                 3  \n",
       "1                 0  \n",
       "2                 5  \n",
       "3                 0  \n",
       "4                 2  "
      ]
     },
     "execution_count": 89,
     "metadata": {},
     "output_type": "execute_result"
    }
   ],
   "source": [
    "X_train.head()"
   ]
  },
  {
   "cell_type": "code",
   "execution_count": 90,
   "id": "6c18da73-66e7-4b79-9f32-ee5df3516981",
   "metadata": {},
   "outputs": [
    {
     "name": "stdout",
     "output_type": "stream",
     "text": [
      "\u001b[1m========================\u001b[0m\n",
      "\u001b[1mCatBoost\u001b[0m\n",
      "\u001b[1mBest score:\u001b[0m 0.5682250000000001\n",
      "\u001b[1mBest params:\u001b[0m {'catboostclassifier__border_count': 200, 'catboostclassifier__depth': 4, 'catboostclassifier__iterations': 1000, 'catboostclassifier__l2_leaf_reg': 100, 'catboostclassifier__learning_rate': 0.1, 'catboostclassifier__thread_count': 4}\n",
      "{'catboostclassifier__border_count': 200, 'catboostclassifier__depth': 4, 'catboostclassifier__iterations': 1000, 'catboostclassifier__l2_leaf_reg': 100, 'catboostclassifier__learning_rate': 0.1, 'catboostclassifier__thread_count': 4}\n"
     ]
    }
   ],
   "source": [
    "for idx, model in enumerate(models):\n",
    "    pipeline = model['pipeline']\n",
    "    title = model['title']\n",
    "    params = model['params']\n",
    "    pn = {**params, **common_params}\n",
    "    grid = GridSearchCV(pipeline, pn, cv=5, scoring=make_scorer(f1_score, average='micro'))\n",
    "    grid.fit(X_train, y_train)\n",
    "\n",
    "    models[idx]['grid'] = grid\n",
    "\n",
    "    print(f'{COLOR_BOLD}========================{COLOR_END}')\n",
    "    print(f'{COLOR_BOLD}{title}{COLOR_END}')\n",
    "    print(f'{COLOR_BOLD}Best score:{COLOR_END} {grid.best_score_}')\n",
    "    print(f'{COLOR_BOLD}Best params:{COLOR_END} {grid.best_params_}')\n",
    "    print(grid.best_params_)\n",
    "\n",
    "# CatBoost\n",
    "# Best score: 0.568225"
   ]
  },
  {
   "cell_type": "code",
   "execution_count": 102,
   "id": "af6f26b9-208e-4aee-af11-354011c25dc2",
   "metadata": {
    "tags": []
   },
   "outputs": [
    {
     "data": {
      "text/plain": [
       "<catboost.core.CatBoostClassifier at 0x147178fd0>"
      ]
     },
     "execution_count": 102,
     "metadata": {},
     "output_type": "execute_result"
    }
   ],
   "source": [
    "# model = models[0]['grid'].best_estimator_.steps[1][1]\n",
    "\n",
    "# print(model)\n",
    "X_test_exp = test_data.copy()\n",
    "\n",
    "# \n",
    "model = CatBoostClassifier(\n",
    "    verbose=False,\n",
    "    border_count=200,\n",
    "    depth=4,\n",
    "    iterations=1000,\n",
    "    l2_leaf_reg=100,\n",
    "    learning_rate=0.1,\n",
    "    thread_count=5,\n",
    ")\n",
    "\n",
    "model.fit(X_train, y_train)\n"
   ]
  },
  {
   "cell_type": "markdown",
   "id": "fe7613e3-37f4-4bca-a269-c93eb0c315d1",
   "metadata": {
    "tags": []
   },
   "source": [
    "__Пришлось делать на заново обученой модели, без пайплайна - с пайплайном очень неудобно выходит. Но результаты в shap такие же__"
   ]
  },
  {
   "cell_type": "code",
   "execution_count": 105,
   "id": "f494b70c-4636-4127-bfb6-60e44bc2341b",
   "metadata": {
    "tags": []
   },
   "outputs": [
    {
     "name": "stdout",
     "output_type": "stream",
     "text": [
      "<shap.explainers._tree.TreeExplainer object at 0x14988a650>\n"
     ]
    },
    {
     "data": {
      "image/png": "[encoded data removed]",
      "text/plain": [
       "<Figure size 800x630 with 1 Axes>"
      ]
     },
     "metadata": {},
     "output_type": "display_data"
    }
   ],
   "source": [
    "explainer = shap.TreeExplainer(model)\n",
    "shap_values = explainer.shap_values(X_test_exp)\n",
    "\n",
    "print(explainer)\n",
    "\n",
    "shap.summary_plot(shap_values, X_test_exp, class_names=model.classes_)\n",
    "\n",
    "\n",
    "# print(X_train_exp.columns)"
   ]
  },
  {
   "cell_type": "code",
   "execution_count": 106,
   "id": "bc8d3f2f-c054-4675-b716-565b5799e3a9",
   "metadata": {},
   "outputs": [
    {
     "name": "stdout",
     "output_type": "stream",
     "text": [
      "             0\n",
      "0         Jazz\n",
      "1  Alternative\n",
      "2   Electronic\n",
      "3      Country\n",
      "4  Alternative\n"
     ]
    }
   ],
   "source": [
    "# preds = grid.predict(X_valid)\n",
    "preds_test = models[0]['grid'].predict(test_data_raw)\n",
    "# f1_score(y_valid, preds, average='micro')\n",
    "\n",
    "# preds_test.flatten()\n",
    "\n",
    "result = pd.DataFrame(preds_test)\n",
    "result.rename(columns={0: \"music_genre\"}, errors=\"raise\")\n",
    "d_test = {'instance_id': test_data_raw['instance_id'], 'music_genre': result[0]}\n",
    "\n",
    "print(result.head())"
   ]
  },
  {
   "cell_type": "code",
   "execution_count": 107,
   "id": "d6e9eb5c-251b-4646-9773-6477ffa43dd8",
   "metadata": {},
   "outputs": [],
   "source": [
    "res = pd.DataFrame(d_test)\n",
    "res.to_csv('predictions.csv', index=False)"
   ]
  },
  {
   "cell_type": "markdown",
   "id": "ae0eefc7-5268-4923-b236-42cc12e201fd",
   "metadata": {},
   "source": [
    "# Вывод"
   ]
  },
  {
   "cell_type": "markdown",
   "id": "250b48bb-7776-44db-91d1-2a53c3155718",
   "metadata": {},
   "source": [
    "- Наилучшей моделью для предсказания жанров музыки является __CatBoost__\n",
    "- Наилучшая метрика: __0.5823__\n",
    "- Поля, явно влияющие на классы (с выделением классов):\n",
    "    - popularity (аниме, рок, рэп)\n",
    "    - instrumentalness (электроника, кантри, рэп)\n",
    "    - danceability (классика (удивительно), хип-хоп, рэп)\n",
    "    - spicheless (хип-хоп, рэп, кантри – все логично)\n",
    "- Поля, меньше всего влияющие на классы:\n",
    "    - liveness\n",
    "    - track_name_len\n",
    "    - track_name_words\n",
    "    - tempo\n",
    "- По моему мнению (подтверждается корреляцией) – тональность,лад и длительность очень слабо влиют на жанр, так как в любом жанре может присутствовать любой лад и тональность\n",
    "- А вот длина названия и количество слов имеют пусть и небольшое, но влияние (больше, чем \"живость liveness\"). Если учесть, что данных по названию не хватало - влияние могло быть и больше"
   ]
  },
  {
   "cell_type": "code",
   "execution_count": null,
   "id": "ff723d76-aa74-4b0e-b115-3e5a75a41230",
   "metadata": {},
   "outputs": [],
   "source": []
  }
 ],
 "metadata": {
  "kernelspec": {
   "display_name": "Python 3 (ipykernel)",
   "language": "python",
   "name": "python3"
  },
  "language_info": {
   "codemirror_mode": {
    "name": "ipython",
    "version": 3
   },
   "file_extension": ".py",
   "mimetype": "text/x-python",
   "name": "python",
   "nbconvert_exporter": "python",
   "pygments_lexer": "ipython3",
   "version": "3.11.5"
  },
  "toc": {
   "base_numbering": 1,
   "nav_menu": {},
   "number_sections": true,
   "sideBar": true,
   "skip_h1_title": false,
   "title_cell": "Table of Contents",
   "title_sidebar": "Contents",
   "toc_cell": false,
   "toc_position": {
    "height": "calc(100% - 180px)",
    "left": "10px",
    "top": "150px",
    "width": "274.195px"
   },
   "toc_section_display": true,
   "toc_window_display": true
  }
 },
 "nbformat": 4,
 "nbformat_minor": 5
}
